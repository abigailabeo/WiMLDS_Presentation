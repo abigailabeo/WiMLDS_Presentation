{
  "nbformat": 4,
  "nbformat_minor": 0,
  "metadata": {
    "colab": {
      "provenance": []
    },
    "kernelspec": {
      "name": "python3",
      "display_name": "Python 3"
    },
    "language_info": {
      "name": "python"
    }
  },
  "cells": [
    {
      "cell_type": "markdown",
      "source": [
        "# We will build a Logistic Regression model to predict if a candidate will be called for interview or not using an HR Competency Score Dataset."
      ],
      "metadata": {
        "id": "E7VfpzX4-eRa"
      }
    },
    {
      "cell_type": "markdown",
      "source": [
        "## Libraries"
      ],
      "metadata": {
        "id": "8IO-ldYD-2ex"
      }
    },
    {
      "cell_type": "code",
      "source": [
        "import numpy as np\n",
        "import pandas as pd\n",
        "import seaborn as sns\n",
        "\n",
        "from sklearn.metrics import accuracy_score\n",
        "from sklearn.model_selection import train_test_split\n",
        "from sklearn.linear_model import LogisticRegression"
      ],
      "metadata": {
        "id": "VYfXGv1A-6Tk"
      },
      "execution_count": 1,
      "outputs": []
    },
    {
      "cell_type": "markdown",
      "source": [
        "## Dataset"
      ],
      "metadata": {
        "id": "wuAVvq3b-u6u"
      }
    },
    {
      "cell_type": "code",
      "execution_count": 2,
      "metadata": {
        "id": "cPk2grCY90Ri"
      },
      "outputs": [],
      "source": [
        "# get the file path of the dataset you have downloaded and put in the path variable\n",
        "path = \"/content/drive/MyDrive/Colab Notebooks/WiDSML_Ghana/HR_Competency_Score_dataset.csv\"\n",
        "hr_data = pd.read_csv(path)"
      ]
    },
    {
      "cell_type": "code",
      "source": [
        "# let us look at a sample of the data\n",
        "hr_data.head()"
      ],
      "metadata": {
        "colab": {
          "base_uri": "https://localhost:8080/",
          "height": 270
        },
        "id": "zcc9pjiB_nDz",
        "outputId": "7a7aa262-0dde-4ef9-c85c-2809edcf417c"
      },
      "execution_count": 3,
      "outputs": [
        {
          "output_type": "execute_result",
          "data": {
            "text/plain": [
              "   years_of_experience  functional_competency_score  top1_skills_score  \\\n",
              "0             0.333333                     0.749498           0.777778   \n",
              "1             0.133333                     0.490638           0.777778   \n",
              "2             0.000000                     0.460256           0.444444   \n",
              "3             0.000000                     0.507347           0.555556   \n",
              "4             0.400000                     0.662020           0.666667   \n",
              "\n",
              "   top2_skills_score  top3_skills_score  behavior_competency_score  \\\n",
              "0                0.7                0.8                   0.769231   \n",
              "1                0.3                0.4                   0.153846   \n",
              "2                0.3                0.3                   0.051282   \n",
              "3                0.4                0.5                   0.384615   \n",
              "4                0.7                0.5                   0.461538   \n",
              "\n",
              "   top1_behavior_skill_score  top2_behavior_skill_score  \\\n",
              "0                   0.931689                   0.662042   \n",
              "1                   0.352093                   0.132231   \n",
              "2                   0.052347                   0.089765   \n",
              "3                   0.309913                   0.289758   \n",
              "4                   0.497929                   0.397544   \n",
              "\n",
              "   top3_behavior_skill_score  call_for_interview  \n",
              "0                   0.752463                   1  \n",
              "1                   0.316905                   0  \n",
              "2                   0.254859                   0  \n",
              "3                   0.440784                   0  \n",
              "4                   0.392760                   1  "
            ],
            "text/html": [
              "\n",
              "  <div id=\"df-0d15dbf3-03ab-4a64-b885-743dccae7910\">\n",
              "    <div class=\"colab-df-container\">\n",
              "      <div>\n",
              "<style scoped>\n",
              "    .dataframe tbody tr th:only-of-type {\n",
              "        vertical-align: middle;\n",
              "    }\n",
              "\n",
              "    .dataframe tbody tr th {\n",
              "        vertical-align: top;\n",
              "    }\n",
              "\n",
              "    .dataframe thead th {\n",
              "        text-align: right;\n",
              "    }\n",
              "</style>\n",
              "<table border=\"1\" class=\"dataframe\">\n",
              "  <thead>\n",
              "    <tr style=\"text-align: right;\">\n",
              "      <th></th>\n",
              "      <th>years_of_experience</th>\n",
              "      <th>functional_competency_score</th>\n",
              "      <th>top1_skills_score</th>\n",
              "      <th>top2_skills_score</th>\n",
              "      <th>top3_skills_score</th>\n",
              "      <th>behavior_competency_score</th>\n",
              "      <th>top1_behavior_skill_score</th>\n",
              "      <th>top2_behavior_skill_score</th>\n",
              "      <th>top3_behavior_skill_score</th>\n",
              "      <th>call_for_interview</th>\n",
              "    </tr>\n",
              "  </thead>\n",
              "  <tbody>\n",
              "    <tr>\n",
              "      <th>0</th>\n",
              "      <td>0.333333</td>\n",
              "      <td>0.749498</td>\n",
              "      <td>0.777778</td>\n",
              "      <td>0.7</td>\n",
              "      <td>0.8</td>\n",
              "      <td>0.769231</td>\n",
              "      <td>0.931689</td>\n",
              "      <td>0.662042</td>\n",
              "      <td>0.752463</td>\n",
              "      <td>1</td>\n",
              "    </tr>\n",
              "    <tr>\n",
              "      <th>1</th>\n",
              "      <td>0.133333</td>\n",
              "      <td>0.490638</td>\n",
              "      <td>0.777778</td>\n",
              "      <td>0.3</td>\n",
              "      <td>0.4</td>\n",
              "      <td>0.153846</td>\n",
              "      <td>0.352093</td>\n",
              "      <td>0.132231</td>\n",
              "      <td>0.316905</td>\n",
              "      <td>0</td>\n",
              "    </tr>\n",
              "    <tr>\n",
              "      <th>2</th>\n",
              "      <td>0.000000</td>\n",
              "      <td>0.460256</td>\n",
              "      <td>0.444444</td>\n",
              "      <td>0.3</td>\n",
              "      <td>0.3</td>\n",
              "      <td>0.051282</td>\n",
              "      <td>0.052347</td>\n",
              "      <td>0.089765</td>\n",
              "      <td>0.254859</td>\n",
              "      <td>0</td>\n",
              "    </tr>\n",
              "    <tr>\n",
              "      <th>3</th>\n",
              "      <td>0.000000</td>\n",
              "      <td>0.507347</td>\n",
              "      <td>0.555556</td>\n",
              "      <td>0.4</td>\n",
              "      <td>0.5</td>\n",
              "      <td>0.384615</td>\n",
              "      <td>0.309913</td>\n",
              "      <td>0.289758</td>\n",
              "      <td>0.440784</td>\n",
              "      <td>0</td>\n",
              "    </tr>\n",
              "    <tr>\n",
              "      <th>4</th>\n",
              "      <td>0.400000</td>\n",
              "      <td>0.662020</td>\n",
              "      <td>0.666667</td>\n",
              "      <td>0.7</td>\n",
              "      <td>0.5</td>\n",
              "      <td>0.461538</td>\n",
              "      <td>0.497929</td>\n",
              "      <td>0.397544</td>\n",
              "      <td>0.392760</td>\n",
              "      <td>1</td>\n",
              "    </tr>\n",
              "  </tbody>\n",
              "</table>\n",
              "</div>\n",
              "      <button class=\"colab-df-convert\" onclick=\"convertToInteractive('df-0d15dbf3-03ab-4a64-b885-743dccae7910')\"\n",
              "              title=\"Convert this dataframe to an interactive table.\"\n",
              "              style=\"display:none;\">\n",
              "        \n",
              "  <svg xmlns=\"http://www.w3.org/2000/svg\" height=\"24px\"viewBox=\"0 0 24 24\"\n",
              "       width=\"24px\">\n",
              "    <path d=\"M0 0h24v24H0V0z\" fill=\"none\"/>\n",
              "    <path d=\"M18.56 5.44l.94 2.06.94-2.06 2.06-.94-2.06-.94-.94-2.06-.94 2.06-2.06.94zm-11 1L8.5 8.5l.94-2.06 2.06-.94-2.06-.94L8.5 2.5l-.94 2.06-2.06.94zm10 10l.94 2.06.94-2.06 2.06-.94-2.06-.94-.94-2.06-.94 2.06-2.06.94z\"/><path d=\"M17.41 7.96l-1.37-1.37c-.4-.4-.92-.59-1.43-.59-.52 0-1.04.2-1.43.59L10.3 9.45l-7.72 7.72c-.78.78-.78 2.05 0 2.83L4 21.41c.39.39.9.59 1.41.59.51 0 1.02-.2 1.41-.59l7.78-7.78 2.81-2.81c.8-.78.8-2.07 0-2.86zM5.41 20L4 18.59l7.72-7.72 1.47 1.35L5.41 20z\"/>\n",
              "  </svg>\n",
              "      </button>\n",
              "      \n",
              "  <style>\n",
              "    .colab-df-container {\n",
              "      display:flex;\n",
              "      flex-wrap:wrap;\n",
              "      gap: 12px;\n",
              "    }\n",
              "\n",
              "    .colab-df-convert {\n",
              "      background-color: #E8F0FE;\n",
              "      border: none;\n",
              "      border-radius: 50%;\n",
              "      cursor: pointer;\n",
              "      display: none;\n",
              "      fill: #1967D2;\n",
              "      height: 32px;\n",
              "      padding: 0 0 0 0;\n",
              "      width: 32px;\n",
              "    }\n",
              "\n",
              "    .colab-df-convert:hover {\n",
              "      background-color: #E2EBFA;\n",
              "      box-shadow: 0px 1px 2px rgba(60, 64, 67, 0.3), 0px 1px 3px 1px rgba(60, 64, 67, 0.15);\n",
              "      fill: #174EA6;\n",
              "    }\n",
              "\n",
              "    [theme=dark] .colab-df-convert {\n",
              "      background-color: #3B4455;\n",
              "      fill: #D2E3FC;\n",
              "    }\n",
              "\n",
              "    [theme=dark] .colab-df-convert:hover {\n",
              "      background-color: #434B5C;\n",
              "      box-shadow: 0px 1px 3px 1px rgba(0, 0, 0, 0.15);\n",
              "      filter: drop-shadow(0px 1px 2px rgba(0, 0, 0, 0.3));\n",
              "      fill: #FFFFFF;\n",
              "    }\n",
              "  </style>\n",
              "\n",
              "      <script>\n",
              "        const buttonEl =\n",
              "          document.querySelector('#df-0d15dbf3-03ab-4a64-b885-743dccae7910 button.colab-df-convert');\n",
              "        buttonEl.style.display =\n",
              "          google.colab.kernel.accessAllowed ? 'block' : 'none';\n",
              "\n",
              "        async function convertToInteractive(key) {\n",
              "          const element = document.querySelector('#df-0d15dbf3-03ab-4a64-b885-743dccae7910');\n",
              "          const dataTable =\n",
              "            await google.colab.kernel.invokeFunction('convertToInteractive',\n",
              "                                                     [key], {});\n",
              "          if (!dataTable) return;\n",
              "\n",
              "          const docLinkHtml = 'Like what you see? Visit the ' +\n",
              "            '<a target=\"_blank\" href=https://colab.research.google.com/notebooks/data_table.ipynb>data table notebook</a>'\n",
              "            + ' to learn more about interactive tables.';\n",
              "          element.innerHTML = '';\n",
              "          dataTable['output_type'] = 'display_data';\n",
              "          await google.colab.output.renderOutput(dataTable, element);\n",
              "          const docLink = document.createElement('div');\n",
              "          docLink.innerHTML = docLinkHtml;\n",
              "          element.appendChild(docLink);\n",
              "        }\n",
              "      </script>\n",
              "    </div>\n",
              "  </div>\n",
              "  "
            ]
          },
          "metadata": {},
          "execution_count": 3
        }
      ]
    },
    {
      "cell_type": "markdown",
      "source": [
        "## Dataset Description"
      ],
      "metadata": {
        "id": "5fxNFeJNAIFp"
      }
    },
    {
      "cell_type": "code",
      "source": [
        "# Let us see the shape of the data and the columnns and their types \n",
        "print(hr_data.shape)\n",
        "hr_data.info()"
      ],
      "metadata": {
        "colab": {
          "base_uri": "https://localhost:8080/"
        },
        "id": "Iu5fsQf0_pax",
        "outputId": "aa4ddccd-2d0d-406a-d704-2fcd876926fb"
      },
      "execution_count": 4,
      "outputs": [
        {
          "output_type": "stream",
          "name": "stdout",
          "text": [
            "(300, 10)\n",
            "<class 'pandas.core.frame.DataFrame'>\n",
            "RangeIndex: 300 entries, 0 to 299\n",
            "Data columns (total 10 columns):\n",
            " #   Column                       Non-Null Count  Dtype  \n",
            "---  ------                       --------------  -----  \n",
            " 0   years_of_experience          300 non-null    float64\n",
            " 1   functional_competency_score  300 non-null    float64\n",
            " 2   top1_skills_score            300 non-null    float64\n",
            " 3   top2_skills_score            300 non-null    float64\n",
            " 4   top3_skills_score            300 non-null    float64\n",
            " 5   behavior_competency_score    300 non-null    float64\n",
            " 6   top1_behavior_skill_score    300 non-null    float64\n",
            " 7   top2_behavior_skill_score    300 non-null    float64\n",
            " 8   top3_behavior_skill_score    300 non-null    float64\n",
            " 9   call_for_interview           300 non-null    int64  \n",
            "dtypes: float64(9), int64(1)\n",
            "memory usage: 23.6 KB\n"
          ]
        }
      ]
    },
    {
      "cell_type": "code",
      "source": [
        "# let us check if there are any missing values\n",
        "hr_data.isnull().sum()"
      ],
      "metadata": {
        "colab": {
          "base_uri": "https://localhost:8080/"
        },
        "id": "MXb3xaxwElBj",
        "outputId": "920a8ec2-0162-4c1c-bff3-89b374bdd3b7"
      },
      "execution_count": 5,
      "outputs": [
        {
          "output_type": "execute_result",
          "data": {
            "text/plain": [
              "years_of_experience            0\n",
              "functional_competency_score    0\n",
              "top1_skills_score              0\n",
              "top2_skills_score              0\n",
              "top3_skills_score              0\n",
              "behavior_competency_score      0\n",
              "top1_behavior_skill_score      0\n",
              "top2_behavior_skill_score      0\n",
              "top3_behavior_skill_score      0\n",
              "call_for_interview             0\n",
              "dtype: int64"
            ]
          },
          "metadata": {},
          "execution_count": 5
        }
      ]
    },
    {
      "cell_type": "code",
      "source": [
        "# let us look at some summary statistics\n",
        "hr_data.describe()"
      ],
      "metadata": {
        "colab": {
          "base_uri": "https://localhost:8080/",
          "height": 364
        },
        "id": "bcTipghl_tok",
        "outputId": "e2d4fa2a-0579-4dda-fcfc-e1fa570b7987"
      },
      "execution_count": 6,
      "outputs": [
        {
          "output_type": "execute_result",
          "data": {
            "text/plain": [
              "       years_of_experience  functional_competency_score  top1_skills_score  \\\n",
              "count           300.000000                   300.000000         300.000000   \n",
              "mean              0.231778                     0.578350           0.681111   \n",
              "std               0.238689                     0.156784           0.238006   \n",
              "min               0.000000                     0.000000           0.000000   \n",
              "25%               0.000000                     0.480041           0.527778   \n",
              "50%               0.200000                     0.576121           0.666667   \n",
              "75%               0.400000                     0.685611           0.888889   \n",
              "max               1.000000                     1.000000           1.000000   \n",
              "\n",
              "       top2_skills_score  top3_skills_score  behavior_competency_score  \\\n",
              "count         300.000000         300.000000                 300.000000   \n",
              "mean            0.510667           0.521667                   0.457692   \n",
              "std             0.229482           0.230523                   0.260942   \n",
              "min             0.000000           0.000000                   0.000000   \n",
              "25%             0.300000           0.300000                   0.230769   \n",
              "50%             0.500000           0.500000                   0.358974   \n",
              "75%             0.700000           0.700000                   0.666667   \n",
              "max             1.000000           1.000000                   1.000000   \n",
              "\n",
              "       top1_behavior_skill_score  top2_behavior_skill_score  \\\n",
              "count                 300.000000                 300.000000   \n",
              "mean                    0.480880                   0.434732   \n",
              "std                     0.244018                   0.225863   \n",
              "min                     0.000000                   0.000000   \n",
              "25%                     0.297052                   0.249501   \n",
              "50%                     0.433097                   0.401338   \n",
              "75%                     0.687145                   0.612519   \n",
              "max                     1.000000                   1.000000   \n",
              "\n",
              "       top3_behavior_skill_score  call_for_interview  \n",
              "count                 300.000000          300.000000  \n",
              "mean                    0.426792            0.530000  \n",
              "std                     0.248246            0.499933  \n",
              "min                     0.000000            0.000000  \n",
              "25%                     0.224828            0.000000  \n",
              "50%                     0.389711            1.000000  \n",
              "75%                     0.632039            1.000000  \n",
              "max                     1.000000            1.000000  "
            ],
            "text/html": [
              "\n",
              "  <div id=\"df-1f8dc48a-a7b5-4cb7-8a3b-eb56dd307da3\">\n",
              "    <div class=\"colab-df-container\">\n",
              "      <div>\n",
              "<style scoped>\n",
              "    .dataframe tbody tr th:only-of-type {\n",
              "        vertical-align: middle;\n",
              "    }\n",
              "\n",
              "    .dataframe tbody tr th {\n",
              "        vertical-align: top;\n",
              "    }\n",
              "\n",
              "    .dataframe thead th {\n",
              "        text-align: right;\n",
              "    }\n",
              "</style>\n",
              "<table border=\"1\" class=\"dataframe\">\n",
              "  <thead>\n",
              "    <tr style=\"text-align: right;\">\n",
              "      <th></th>\n",
              "      <th>years_of_experience</th>\n",
              "      <th>functional_competency_score</th>\n",
              "      <th>top1_skills_score</th>\n",
              "      <th>top2_skills_score</th>\n",
              "      <th>top3_skills_score</th>\n",
              "      <th>behavior_competency_score</th>\n",
              "      <th>top1_behavior_skill_score</th>\n",
              "      <th>top2_behavior_skill_score</th>\n",
              "      <th>top3_behavior_skill_score</th>\n",
              "      <th>call_for_interview</th>\n",
              "    </tr>\n",
              "  </thead>\n",
              "  <tbody>\n",
              "    <tr>\n",
              "      <th>count</th>\n",
              "      <td>300.000000</td>\n",
              "      <td>300.000000</td>\n",
              "      <td>300.000000</td>\n",
              "      <td>300.000000</td>\n",
              "      <td>300.000000</td>\n",
              "      <td>300.000000</td>\n",
              "      <td>300.000000</td>\n",
              "      <td>300.000000</td>\n",
              "      <td>300.000000</td>\n",
              "      <td>300.000000</td>\n",
              "    </tr>\n",
              "    <tr>\n",
              "      <th>mean</th>\n",
              "      <td>0.231778</td>\n",
              "      <td>0.578350</td>\n",
              "      <td>0.681111</td>\n",
              "      <td>0.510667</td>\n",
              "      <td>0.521667</td>\n",
              "      <td>0.457692</td>\n",
              "      <td>0.480880</td>\n",
              "      <td>0.434732</td>\n",
              "      <td>0.426792</td>\n",
              "      <td>0.530000</td>\n",
              "    </tr>\n",
              "    <tr>\n",
              "      <th>std</th>\n",
              "      <td>0.238689</td>\n",
              "      <td>0.156784</td>\n",
              "      <td>0.238006</td>\n",
              "      <td>0.229482</td>\n",
              "      <td>0.230523</td>\n",
              "      <td>0.260942</td>\n",
              "      <td>0.244018</td>\n",
              "      <td>0.225863</td>\n",
              "      <td>0.248246</td>\n",
              "      <td>0.499933</td>\n",
              "    </tr>\n",
              "    <tr>\n",
              "      <th>min</th>\n",
              "      <td>0.000000</td>\n",
              "      <td>0.000000</td>\n",
              "      <td>0.000000</td>\n",
              "      <td>0.000000</td>\n",
              "      <td>0.000000</td>\n",
              "      <td>0.000000</td>\n",
              "      <td>0.000000</td>\n",
              "      <td>0.000000</td>\n",
              "      <td>0.000000</td>\n",
              "      <td>0.000000</td>\n",
              "    </tr>\n",
              "    <tr>\n",
              "      <th>25%</th>\n",
              "      <td>0.000000</td>\n",
              "      <td>0.480041</td>\n",
              "      <td>0.527778</td>\n",
              "      <td>0.300000</td>\n",
              "      <td>0.300000</td>\n",
              "      <td>0.230769</td>\n",
              "      <td>0.297052</td>\n",
              "      <td>0.249501</td>\n",
              "      <td>0.224828</td>\n",
              "      <td>0.000000</td>\n",
              "    </tr>\n",
              "    <tr>\n",
              "      <th>50%</th>\n",
              "      <td>0.200000</td>\n",
              "      <td>0.576121</td>\n",
              "      <td>0.666667</td>\n",
              "      <td>0.500000</td>\n",
              "      <td>0.500000</td>\n",
              "      <td>0.358974</td>\n",
              "      <td>0.433097</td>\n",
              "      <td>0.401338</td>\n",
              "      <td>0.389711</td>\n",
              "      <td>1.000000</td>\n",
              "    </tr>\n",
              "    <tr>\n",
              "      <th>75%</th>\n",
              "      <td>0.400000</td>\n",
              "      <td>0.685611</td>\n",
              "      <td>0.888889</td>\n",
              "      <td>0.700000</td>\n",
              "      <td>0.700000</td>\n",
              "      <td>0.666667</td>\n",
              "      <td>0.687145</td>\n",
              "      <td>0.612519</td>\n",
              "      <td>0.632039</td>\n",
              "      <td>1.000000</td>\n",
              "    </tr>\n",
              "    <tr>\n",
              "      <th>max</th>\n",
              "      <td>1.000000</td>\n",
              "      <td>1.000000</td>\n",
              "      <td>1.000000</td>\n",
              "      <td>1.000000</td>\n",
              "      <td>1.000000</td>\n",
              "      <td>1.000000</td>\n",
              "      <td>1.000000</td>\n",
              "      <td>1.000000</td>\n",
              "      <td>1.000000</td>\n",
              "      <td>1.000000</td>\n",
              "    </tr>\n",
              "  </tbody>\n",
              "</table>\n",
              "</div>\n",
              "      <button class=\"colab-df-convert\" onclick=\"convertToInteractive('df-1f8dc48a-a7b5-4cb7-8a3b-eb56dd307da3')\"\n",
              "              title=\"Convert this dataframe to an interactive table.\"\n",
              "              style=\"display:none;\">\n",
              "        \n",
              "  <svg xmlns=\"http://www.w3.org/2000/svg\" height=\"24px\"viewBox=\"0 0 24 24\"\n",
              "       width=\"24px\">\n",
              "    <path d=\"M0 0h24v24H0V0z\" fill=\"none\"/>\n",
              "    <path d=\"M18.56 5.44l.94 2.06.94-2.06 2.06-.94-2.06-.94-.94-2.06-.94 2.06-2.06.94zm-11 1L8.5 8.5l.94-2.06 2.06-.94-2.06-.94L8.5 2.5l-.94 2.06-2.06.94zm10 10l.94 2.06.94-2.06 2.06-.94-2.06-.94-.94-2.06-.94 2.06-2.06.94z\"/><path d=\"M17.41 7.96l-1.37-1.37c-.4-.4-.92-.59-1.43-.59-.52 0-1.04.2-1.43.59L10.3 9.45l-7.72 7.72c-.78.78-.78 2.05 0 2.83L4 21.41c.39.39.9.59 1.41.59.51 0 1.02-.2 1.41-.59l7.78-7.78 2.81-2.81c.8-.78.8-2.07 0-2.86zM5.41 20L4 18.59l7.72-7.72 1.47 1.35L5.41 20z\"/>\n",
              "  </svg>\n",
              "      </button>\n",
              "      \n",
              "  <style>\n",
              "    .colab-df-container {\n",
              "      display:flex;\n",
              "      flex-wrap:wrap;\n",
              "      gap: 12px;\n",
              "    }\n",
              "\n",
              "    .colab-df-convert {\n",
              "      background-color: #E8F0FE;\n",
              "      border: none;\n",
              "      border-radius: 50%;\n",
              "      cursor: pointer;\n",
              "      display: none;\n",
              "      fill: #1967D2;\n",
              "      height: 32px;\n",
              "      padding: 0 0 0 0;\n",
              "      width: 32px;\n",
              "    }\n",
              "\n",
              "    .colab-df-convert:hover {\n",
              "      background-color: #E2EBFA;\n",
              "      box-shadow: 0px 1px 2px rgba(60, 64, 67, 0.3), 0px 1px 3px 1px rgba(60, 64, 67, 0.15);\n",
              "      fill: #174EA6;\n",
              "    }\n",
              "\n",
              "    [theme=dark] .colab-df-convert {\n",
              "      background-color: #3B4455;\n",
              "      fill: #D2E3FC;\n",
              "    }\n",
              "\n",
              "    [theme=dark] .colab-df-convert:hover {\n",
              "      background-color: #434B5C;\n",
              "      box-shadow: 0px 1px 3px 1px rgba(0, 0, 0, 0.15);\n",
              "      filter: drop-shadow(0px 1px 2px rgba(0, 0, 0, 0.3));\n",
              "      fill: #FFFFFF;\n",
              "    }\n",
              "  </style>\n",
              "\n",
              "      <script>\n",
              "        const buttonEl =\n",
              "          document.querySelector('#df-1f8dc48a-a7b5-4cb7-8a3b-eb56dd307da3 button.colab-df-convert');\n",
              "        buttonEl.style.display =\n",
              "          google.colab.kernel.accessAllowed ? 'block' : 'none';\n",
              "\n",
              "        async function convertToInteractive(key) {\n",
              "          const element = document.querySelector('#df-1f8dc48a-a7b5-4cb7-8a3b-eb56dd307da3');\n",
              "          const dataTable =\n",
              "            await google.colab.kernel.invokeFunction('convertToInteractive',\n",
              "                                                     [key], {});\n",
              "          if (!dataTable) return;\n",
              "\n",
              "          const docLinkHtml = 'Like what you see? Visit the ' +\n",
              "            '<a target=\"_blank\" href=https://colab.research.google.com/notebooks/data_table.ipynb>data table notebook</a>'\n",
              "            + ' to learn more about interactive tables.';\n",
              "          element.innerHTML = '';\n",
              "          dataTable['output_type'] = 'display_data';\n",
              "          await google.colab.output.renderOutput(dataTable, element);\n",
              "          const docLink = document.createElement('div');\n",
              "          docLink.innerHTML = docLinkHtml;\n",
              "          element.appendChild(docLink);\n",
              "        }\n",
              "      </script>\n",
              "    </div>\n",
              "  </div>\n",
              "  "
            ]
          },
          "metadata": {},
          "execution_count": 6
        }
      ]
    },
    {
      "cell_type": "code",
      "source": [
        "# let us look at the frequencies of the classes\n",
        "hr_data['call_for_interview'].value_counts()"
      ],
      "metadata": {
        "colab": {
          "base_uri": "https://localhost:8080/"
        },
        "id": "BwcykIN1_10e",
        "outputId": "f2b3c3f5-f28f-4e1c-834e-d6bf3ade67d3"
      },
      "execution_count": 7,
      "outputs": [
        {
          "output_type": "execute_result",
          "data": {
            "text/plain": [
              "1    159\n",
              "0    141\n",
              "Name: call_for_interview, dtype: int64"
            ]
          },
          "metadata": {},
          "execution_count": 7
        }
      ]
    },
    {
      "cell_type": "markdown",
      "source": [
        "## Exploratory Data Analysis"
      ],
      "metadata": {
        "id": "BGAf4WtGFP7s"
      }
    },
    {
      "cell_type": "code",
      "source": [
        "# let us look at the frequency distribution of the years of experience\n",
        "sns.histplot(data = hr_data, x = 'years_of_experience')"
      ],
      "metadata": {
        "colab": {
          "base_uri": "https://localhost:8080/",
          "height": 468
        },
        "id": "UhwFGaKrFHpj",
        "outputId": "c030fafc-18a1-4871-a71b-3ce345ddb2e1"
      },
      "execution_count": 8,
      "outputs": [
        {
          "output_type": "execute_result",
          "data": {
            "text/plain": [
              "<Axes: xlabel='years_of_experience', ylabel='Count'>"
            ]
          },
          "metadata": {},
          "execution_count": 8
        },
        {
          "output_type": "display_data",
          "data": {
            "text/plain": [
              "<Figure size 640x480 with 1 Axes>"
            ],
            "image/png": "[encoded data removed]"
          },
          "metadata": {}
        }
      ]
    },
    {
      "cell_type": "code",
      "source": [
        "# let us look at the frequency distribution of the top1_skills_score\n",
        "sns.histplot(data = hr_data, x = 'top1_skills_score')"
      ],
      "metadata": {
        "colab": {
          "base_uri": "https://localhost:8080/",
          "height": 468
        },
        "id": "vI05mI3eF_WO",
        "outputId": "b4f17ad0-077c-4f38-a275-645bb22d2f10"
      },
      "execution_count": 9,
      "outputs": [
        {
          "output_type": "execute_result",
          "data": {
            "text/plain": [
              "<Axes: xlabel='top1_skills_score', ylabel='Count'>"
            ]
          },
          "metadata": {},
          "execution_count": 9
        },
        {
          "output_type": "display_data",
          "data": {
            "text/plain": [
              "<Figure size 640x480 with 1 Axes>"
            ],
            "image/png": "[encoded data removed]"
          },
          "metadata": {}
        }
      ]
    },
    {
      "cell_type": "code",
      "source": [
        "# let us look at the frequency distribution of the behaviour_competency_score\n",
        "sns.histplot(data = hr_data, x = 'behavior_competency_score')"
      ],
      "metadata": {
        "colab": {
          "base_uri": "https://localhost:8080/",
          "height": 469
        },
        "id": "7qLwgfTAGRK7",
        "outputId": "5ae6d7f4-e972-4dfc-e774-ecd2d9d942d1"
      },
      "execution_count": 10,
      "outputs": [
        {
          "output_type": "execute_result",
          "data": {
            "text/plain": [
              "<Axes: xlabel='behavior_competency_score', ylabel='Count'>"
            ]
          },
          "metadata": {},
          "execution_count": 10
        },
        {
          "output_type": "display_data",
          "data": {
            "text/plain": [
              "<Figure size 640x480 with 1 Axes>"
            ],
            "image/png": "[encoded data removed]"
          },
          "metadata": {}
        }
      ]
    },
    {
      "cell_type": "code",
      "source": [
        "# let us look at the relationship between the functional and the behaviour competency scores\n",
        "sns.scatterplot(data = hr_data, x = 'functional_competency_score', y = 'behavior_competency_score')"
      ],
      "metadata": {
        "colab": {
          "base_uri": "https://localhost:8080/",
          "height": 468
        },
        "id": "kHX9EwSdGsoB",
        "outputId": "620350e6-2d8b-44cd-b82f-7b4ad74aabf4"
      },
      "execution_count": 11,
      "outputs": [
        {
          "output_type": "execute_result",
          "data": {
            "text/plain": [
              "<Axes: xlabel='functional_competency_score', ylabel='behavior_competency_score'>"
            ]
          },
          "metadata": {},
          "execution_count": 11
        },
        {
          "output_type": "display_data",
          "data": {
            "text/plain": [
              "<Figure size 640x480 with 1 Axes>"
            ],
            "image/png": "[encoded data removed]"
          },
          "metadata": {}
        }
      ]
    },
    {
      "cell_type": "markdown",
      "source": [
        "## Extracting the label from the data"
      ],
      "metadata": {
        "id": "MC_3UH4Fa4c5"
      }
    },
    {
      "cell_type": "code",
      "source": [
        "y = hr_data['call_for_interview'] # extract the label column from the data\n",
        "X = hr_data.drop(['call_for_interview'], axis = 1)  # after extracting, let us remove the label column from the dataset"
      ],
      "metadata": {
        "id": "rHvzEMbGa940"
      },
      "execution_count": 12,
      "outputs": []
    },
    {
      "cell_type": "markdown",
      "source": [
        "## Train-Test Split"
      ],
      "metadata": {
        "id": "2TRPEYDTZ_MC"
      }
    },
    {
      "cell_type": "code",
      "source": [
        "X_train, X_test, y_train, y_test = train_test_split(X, y, test_size = 0.2, random_state = 7, shuffle = True)\n",
        "print(f\" The X training shape is: {X_train.shape} and the Y training shape is {y_train.shape}\")\n",
        "print(f\" the test shape is\", X_test.shape, f\"and the Y test shape is\", y_test.shape)"
      ],
      "metadata": {
        "colab": {
          "base_uri": "https://localhost:8080/"
        },
        "id": "lantMbhnaDP3",
        "outputId": "096c86cf-e2fd-441a-9983-5621c62fd792"
      },
      "execution_count": 13,
      "outputs": [
        {
          "output_type": "stream",
          "name": "stdout",
          "text": [
            " The X training shape is: (240, 9) and the Y training shape is (240,)\n",
            " the test shape is (60, 9) and the Y test shape is (60,)\n"
          ]
        }
      ]
    },
    {
      "cell_type": "code",
      "source": [
        "# the type of the datasets are dataframes or series\n",
        "type(X_train)"
      ],
      "metadata": {
        "colab": {
          "base_uri": "https://localhost:8080/"
        },
        "id": "fLT4-lBOmEvn",
        "outputId": "b60e4c4d-ac61-450c-a7ef-868cbff9c6bf"
      },
      "execution_count": 14,
      "outputs": [
        {
          "output_type": "execute_result",
          "data": {
            "text/plain": [
              "pandas.core.frame.DataFrame"
            ]
          },
          "metadata": {},
          "execution_count": 14
        }
      ]
    },
    {
      "cell_type": "code",
      "source": [
        "# Converting the dataframes and series to numpy\n",
        "X_train = X_train.to_numpy()\n",
        "X_test = X_test.to_numpy()\n",
        "y_train = y_train.to_numpy()\n",
        "y_test = y_test.to_numpy()"
      ],
      "metadata": {
        "id": "a6ZAaGEojmOn"
      },
      "execution_count": 15,
      "outputs": []
    },
    {
      "cell_type": "code",
      "source": [
        "# now, they are all numpy arrays\n",
        "print(type(X_train))"
      ],
      "metadata": {
        "colab": {
          "base_uri": "https://localhost:8080/"
        },
        "id": "o4jTZpKQvLeX",
        "outputId": "6be86f94-9873-4afa-b253-df378f3a9cbb"
      },
      "execution_count": 16,
      "outputs": [
        {
          "output_type": "stream",
          "name": "stdout",
          "text": [
            "<class 'numpy.ndarray'>\n"
          ]
        }
      ]
    },
    {
      "cell_type": "markdown",
      "source": [
        "## Model Building"
      ],
      "metadata": {
        "id": "urtVpo68bzLE"
      }
    },
    {
      "cell_type": "markdown",
      "source": [
        "## Recaps\n",
        "\n",
        "1. Logistic/sigmoid function:\n",
        "\\begin{equation}\n",
        "σ(z)= \\dfrac{1}{1+ e^{-z}}\n",
        "\\end{equation}\n",
        "where  $z= x w$.\n",
        "2. Derivative of Logistic/sigmoid function with respective to $z$:\n",
        "\\begin{equation}\n",
        "σ'(z)= σ(z)(1-σ(z))\n",
        "\\end{equation}\n",
        "3. Negative log likelihood or Cross-entropy loss:\n",
        "\\begin{equation}\n",
        "l(w)= -\\dfrac{1}{N}\\sum_{i= 1}^{N} \\left(y^{(i)}_{true} \\times \\log y^{(i)}_{pred} + (1-y^{(i)}_{true}) \\times \\log (1-y^{(i)}_{pred}) \\right)\n",
        "\\end{equation}\n",
        "\n",
        "where:\n",
        "\n",
        " $y_{pred}= σ(z)$, $z= xw$.\n",
        "4. Derivative of Cross-entropy loss with respective to $w$:\n",
        "\\begin{equation}\n",
        "\\nabla_wl= -\\dfrac{1}{N}x^T(y_{true} -y_{pred} )\n",
        "\\end{equation}\n",
        "5. Apply Batch gradient descent to update $w$.\n",
        "\\begin{equation}\n",
        "w = w - \\alpha \\nabla_wl\n",
        "\\end{equation}\n"
      ],
      "metadata": {
        "id": "EneGIMw-L4mD"
      }
    },
    {
      "cell_type": "code",
      "source": [
        "class B_LogisticRegression:\n",
        "\n",
        "  def __init__(self, lr, n_epochs):\n",
        "    self.lr = lr\n",
        "    self.n_epochs = n_epochs\n",
        "    self.train_losses = []   # we use this to gather the loss after every epoch\n",
        "    self.w = None\n",
        "\n",
        "  def sigmoid(self, x):\n",
        "    sig_func = 1 / (1 + np.exp(- (x @ self.w)))  # these will be the predictions, we use the sigmoid function to get the probalities of z = xw\n",
        "    return sig_func\n",
        "\n",
        "  def cross_entropy(self, x, y_true):\n",
        "    y_pred = self.sigmoid(x)\n",
        "    loss = -np.mean((y_true * np.log(y_pred)) + ((1 - y_true) * np.log(1 - y_pred)),  axis = 0) # computing the loss in point 3 of the recap above\n",
        "    return loss\n",
        "\n",
        "  def fit(self,x,y):\n",
        "    y = y.reshape((-1,1))\n",
        "\n",
        "    # initialize the weights exclusive of the bias\n",
        "    self.w = np.zeros((x.shape[1], 1))  \n",
        "\n",
        "    for epoch in range(self.n_epochs):\n",
        "      # make predictions\n",
        "      y_pred = self.sigmoid(x)\n",
        "\n",
        "      # compute the gradient of the loss as shown in recap no.4\n",
        "      dl = - (1/x.shape[0]) * (x.T @ (y - y_pred))\n",
        "\n",
        "      # update rule as shown in recap no.5\n",
        "      self.w = self.w - self.lr * dl\n",
        "\n",
        "      #get the loss susing the formula in recap no.3\n",
        "      loss = self.cross_entropy(x, y)\n",
        "\n",
        "      self.train_losses.append(loss)   # we append the loss at every epoch\n",
        "\n",
        "      if epoch%100 == 0:    # we want to see the losses, but not for every epoch, as they are many, so we want to see the loss at every 100th epoch\n",
        "        print(f'loss for epoch {epoch} is {loss.item()}')\n",
        "\n",
        "\n",
        "  def predict(self,x):\n",
        "    proba = self.sigmoid(x)    # we use the sigmoid function to get the prediction probabilities\n",
        "    output = [0 if p <= 0.5 else 1 for p in proba] # now with a threshold of 0.5, we conclude that those > 0.5 will belong to class 1 and those below or equal to 0.5 will belong to class 0\n",
        "    return output\n",
        "   \n",
        "  def accuracy(self, y_true, y_pred):  # this method helps us to see the accuracy on the test set\n",
        "    acc = np.mean(y_true == y_pred)*100\n",
        "    return acc\n",
        "      "
      ],
      "metadata": {
        "id": "zEw55XgeCm2B"
      },
      "execution_count": 17,
      "outputs": []
    },
    {
      "cell_type": "markdown",
      "source": [
        "## Testing the Logistic regression we have built ourselves"
      ],
      "metadata": {
        "id": "fv-qKVzrt7wN"
      }
    },
    {
      "cell_type": "code",
      "source": [
        "# Let us create an instance of our class B_LogisticRegression called model_b\n",
        "model_b = B_LogisticRegression(lr = 0.1, n_epochs = 1000)"
      ],
      "metadata": {
        "id": "BWlofW-Yt7Fy"
      },
      "execution_count": 18,
      "outputs": []
    },
    {
      "cell_type": "code",
      "source": [
        "# Let us train our Logistic regression on our train data\n",
        "model_b.fit(X_train, y_train)"
      ],
      "metadata": {
        "colab": {
          "base_uri": "https://localhost:8080/"
        },
        "id": "fjLN1WvAuNm5",
        "outputId": "c9f9addd-77ad-4b58-e6e7-622ecdea264a"
      },
      "execution_count": 19,
      "outputs": [
        {
          "output_type": "stream",
          "name": "stdout",
          "text": [
            "loss for epoch 0 is 0.6844460289309803\n",
            "loss for epoch 100 is 0.5787551661585453\n",
            "loss for epoch 200 is 0.541770255986696\n",
            "loss for epoch 300 is 0.5120791472614841\n",
            "loss for epoch 400 is 0.48790419388704753\n",
            "loss for epoch 500 is 0.46793761290147784\n",
            "loss for epoch 600 is 0.451219123906749\n",
            "loss for epoch 700 is 0.43703986381404386\n",
            "loss for epoch 800 is 0.42487171866306056\n",
            "loss for epoch 900 is 0.4143168330656344\n"
          ]
        }
      ]
    },
    {
      "cell_type": "code",
      "source": [
        "# Let us make predictions on our test set\n",
        "y_pred = model_b.predict(X_test)"
      ],
      "metadata": {
        "id": "i1T1na-auX2y"
      },
      "execution_count": 20,
      "outputs": []
    },
    {
      "cell_type": "code",
      "source": [
        "# Let us get the accuracy on our test test\n",
        "accuracy_b = model_b.accuracy(y_test, y_pred)\n",
        "accuracy_b"
      ],
      "metadata": {
        "colab": {
          "base_uri": "https://localhost:8080/"
        },
        "id": "KI4mcmpIuymc",
        "outputId": "018ef20c-63cb-4d04-e5f1-0b021e5c6ed8"
      },
      "execution_count": 21,
      "outputs": [
        {
          "output_type": "execute_result",
          "data": {
            "text/plain": [
              "83.33333333333334"
            ]
          },
          "metadata": {},
          "execution_count": 21
        }
      ]
    },
    {
      "cell_type": "markdown",
      "source": [
        "Kindly note that, one can fine tune the model to improve things. When we used a learning rate of 0.01, we got an accuracy of 46%.\n",
        "And then, when we change the learning rate to 0.01, we got an accuracy of 83%. \n",
        "Learning rate and number of epochs are examples of hyperparamters that you need to tune to improve things."
      ],
      "metadata": {
        "id": "9Qr2Vt8KW8kt"
      }
    },
    {
      "cell_type": "markdown",
      "source": [
        "## Let us now use the built-in Logistic Regression from sckikit-learn (also called sklearn)."
      ],
      "metadata": {
        "id": "A-Zubxq1wigw"
      }
    },
    {
      "cell_type": "code",
      "source": [
        "# Let us create an instance of LogisticRegression called model\n",
        "# To have same conditions as our own built-in model, we have exclude bias with \"fit_intercept = False\", as was done in our model.\n",
        "model = LogisticRegression(fit_intercept = False)"
      ],
      "metadata": {
        "id": "8R38Z-PCwSC2"
      },
      "execution_count": 22,
      "outputs": []
    },
    {
      "cell_type": "code",
      "source": [
        "# Let us train the Logistic regression on our train data\n",
        "model.fit(X_train, y_train)"
      ],
      "metadata": {
        "colab": {
          "base_uri": "https://localhost:8080/",
          "height": 74
        },
        "id": "AM9Qxxw3wzl-",
        "outputId": "8dd5409b-575e-4042-a0fd-f3e32748b5ef"
      },
      "execution_count": 23,
      "outputs": [
        {
          "output_type": "execute_result",
          "data": {
            "text/plain": [
              "LogisticRegression(fit_intercept=False)"
            ],
            "text/html": [
              "<style>#sk-container-id-1 {color: black;background-color: white;}#sk-container-id-1 pre{padding: 0;}#sk-container-id-1 div.sk-toggleable {background-color: white;}#sk-container-id-1 label.sk-toggleable__label {cursor: pointer;display: block;width: 100%;margin-bottom: 0;padding: 0.3em;box-sizing: border-box;text-align: center;}#sk-container-id-1 label.sk-toggleable__label-arrow:before {content: \"▸\";float: left;margin-right: 0.25em;color: #696969;}#sk-container-id-1 label.sk-toggleable__label-arrow:hover:before {color: black;}#sk-container-id-1 div.sk-estimator:hover label.sk-toggleable__label-arrow:before {color: black;}#sk-container-id-1 div.sk-toggleable__content {max-height: 0;max-width: 0;overflow: hidden;text-align: left;background-color: #f0f8ff;}#sk-container-id-1 div.sk-toggleable__content pre {margin: 0.2em;color: black;border-radius: 0.25em;background-color: #f0f8ff;}#sk-container-id-1 input.sk-toggleable__control:checked~div.sk-toggleable__content {max-height: 200px;max-width: 100%;overflow: auto;}#sk-container-id-1 input.sk-toggleable__control:checked~label.sk-toggleable__label-arrow:before {content: \"▾\";}#sk-container-id-1 div.sk-estimator input.sk-toggleable__control:checked~label.sk-toggleable__label {background-color: #d4ebff;}#sk-container-id-1 div.sk-label input.sk-toggleable__control:checked~label.sk-toggleable__label {background-color: #d4ebff;}#sk-container-id-1 input.sk-hidden--visually {border: 0;clip: rect(1px 1px 1px 1px);clip: rect(1px, 1px, 1px, 1px);height: 1px;margin: -1px;overflow: hidden;padding: 0;position: absolute;width: 1px;}#sk-container-id-1 div.sk-estimator {font-family: monospace;background-color: #f0f8ff;border: 1px dotted black;border-radius: 0.25em;box-sizing: border-box;margin-bottom: 0.5em;}#sk-container-id-1 div.sk-estimator:hover {background-color: #d4ebff;}#sk-container-id-1 div.sk-parallel-item::after {content: \"\";width: 100%;border-bottom: 1px solid gray;flex-grow: 1;}#sk-container-id-1 div.sk-label:hover label.sk-toggleable__label {background-color: #d4ebff;}#sk-container-id-1 div.sk-serial::before {content: \"\";position: absolute;border-left: 1px solid gray;box-sizing: border-box;top: 0;bottom: 0;left: 50%;z-index: 0;}#sk-container-id-1 div.sk-serial {display: flex;flex-direction: column;align-items: center;background-color: white;padding-right: 0.2em;padding-left: 0.2em;position: relative;}#sk-container-id-1 div.sk-item {position: relative;z-index: 1;}#sk-container-id-1 div.sk-parallel {display: flex;align-items: stretch;justify-content: center;background-color: white;position: relative;}#sk-container-id-1 div.sk-item::before, #sk-container-id-1 div.sk-parallel-item::before {content: \"\";position: absolute;border-left: 1px solid gray;box-sizing: border-box;top: 0;bottom: 0;left: 50%;z-index: -1;}#sk-container-id-1 div.sk-parallel-item {display: flex;flex-direction: column;z-index: 1;position: relative;background-color: white;}#sk-container-id-1 div.sk-parallel-item:first-child::after {align-self: flex-end;width: 50%;}#sk-container-id-1 div.sk-parallel-item:last-child::after {align-self: flex-start;width: 50%;}#sk-container-id-1 div.sk-parallel-item:only-child::after {width: 0;}#sk-container-id-1 div.sk-dashed-wrapped {border: 1px dashed gray;margin: 0 0.4em 0.5em 0.4em;box-sizing: border-box;padding-bottom: 0.4em;background-color: white;}#sk-container-id-1 div.sk-label label {font-family: monospace;font-weight: bold;display: inline-block;line-height: 1.2em;}#sk-container-id-1 div.sk-label-container {text-align: center;}#sk-container-id-1 div.sk-container {/* jupyter's `normalize.less` sets `[hidden] { display: none; }` but bootstrap.min.css set `[hidden] { display: none !important; }` so we also need the `!important` here to be able to override the default hidden behavior on the sphinx rendered scikit-learn.org. See: https://github.com/scikit-learn/scikit-learn/issues/21755 */display: inline-block !important;position: relative;}#sk-container-id-1 div.sk-text-repr-fallback {display: none;}</style><div id=\"sk-container-id-1\" class=\"sk-top-container\"><div class=\"sk-text-repr-fallback\"><pre>LogisticRegression(fit_intercept=False)</pre><b>In a Jupyter environment, please rerun this cell to show the HTML representation or trust the notebook. <br />On GitHub, the HTML representation is unable to render, please try loading this page with nbviewer.org.</b></div><div class=\"sk-container\" hidden><div class=\"sk-item\"><div class=\"sk-estimator sk-toggleable\"><input class=\"sk-toggleable__control sk-hidden--visually\" id=\"sk-estimator-id-1\" type=\"checkbox\" checked><label for=\"sk-estimator-id-1\" class=\"sk-toggleable__label sk-toggleable__label-arrow\">LogisticRegression</label><div class=\"sk-toggleable__content\"><pre>LogisticRegression(fit_intercept=False)</pre></div></div></div></div></div>"
            ]
          },
          "metadata": {},
          "execution_count": 23
        }
      ]
    },
    {
      "cell_type": "code",
      "source": [
        "# Let us make predictions on our test set\n",
        "y_p = model.predict(X_test)"
      ],
      "metadata": {
        "id": "RSvMaH6bw3A4"
      },
      "execution_count": 24,
      "outputs": []
    },
    {
      "cell_type": "code",
      "source": [
        "# Let us get the accuracy on our test test\n",
        "accuracy = accuracy_score(y_test, y_p)\n",
        "accuracy"
      ],
      "metadata": {
        "colab": {
          "base_uri": "https://localhost:8080/"
        },
        "id": "8X6hYRxVw9IP",
        "outputId": "38d0002d-4b6c-40b3-f092-7ba33d78f054"
      },
      "execution_count": 25,
      "outputs": [
        {
          "output_type": "execute_result",
          "data": {
            "text/plain": [
              "0.8333333333333334"
            ]
          },
          "metadata": {},
          "execution_count": 25
        }
      ]
    },
    {
      "cell_type": "markdown",
      "source": [
        "I hope you can observe that we get the same accuracy with using our own buikt-in model and using sklearn's model. \n",
        "\n",
        "* With this, you can see and appreciate how models are developed.\n",
        "\n",
        "* There are many more exciting and advanced things you can do which we did not cover. \n",
        "\n",
        "* However, this should not stop you but encourage you to learn and explore more. I look forward to the exciting things you do further."
      ],
      "metadata": {
        "id": "UKn7sJfLZOgD"
      }
    }
  ]
}